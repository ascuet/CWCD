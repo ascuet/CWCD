{
  "cells": [
    {
      "cell_type": "code",
      "execution_count": null,
      "metadata": {
        "id": "2yhzPqdfb0de"
      },
      "outputs": [],
      "source": [
        "!pip install tensorflow==2.12\n",
        "import tensorflow as tf\n",
        "print(tf.__version__)\n",
        "tf.test.gpu_device_name()"
      ]
    },
    {
      "cell_type": "code",
      "source": [
        "!pip install keras-video-generators==1.0.11"
      ],
      "metadata": {
        "id": "np3JVUyA7JoH"
      },
      "execution_count": null,
      "outputs": []
    },
    {
      "cell_type": "code",
      "execution_count": null,
      "metadata": {
        "id": "s6JMBhVGOzFB"
      },
      "outputs": [],
      "source": [
        "import os\n",
        "import glob\n",
        "from tensorflow import keras\n",
        "import keras_video\n",
        "from keras_video import VideoFrameGenerator\n",
        "from tensorflow.keras.utils import Sequence\n",
        "from tensorflow.keras import layers, models, optimizers\n",
        "from tensorflow.keras.models import Model, Sequential\n",
        "from tensorflow.keras.layers import TimeDistributed, GRU, Dense, Flatten, Dropout, LSTM, Bidirectional\n",
        "from tensorflow.keras.optimizers import Adam\n",
        "from tensorflow.keras.callbacks import ModelCheckpoint, EarlyStopping\n",
        "from tensorflow.keras.applications import VGG19"
      ]
    },
    {
      "cell_type": "code",
      "source": [
        "test_dataset_path = '/kaggle/input/cric-wicket-classification-dataset/test/'\n",
        "train_dataset_path = '/kaggle/input/cric-wicket-classification-dataset/train/'"
      ],
      "metadata": {
        "id": "RdUGzkXc7UEw"
      },
      "execution_count": null,
      "outputs": []
    },
    {
      "cell_type": "code",
      "execution_count": null,
      "metadata": {
        "id": "FhtwTwX0AP92"
      },
      "outputs": [],
      "source": [
        "train_glob_pattern= train_dataset_path +'{classname}/*'\n",
        "valid_glob_pattern= test_dataset_path + '{classname}/*'"
      ]
    },
    {
      "cell_type": "code",
      "execution_count": null,
      "metadata": {
        "id": "KZCxANktAQSL"
      },
      "outputs": [],
      "source": [
        "train_classes = [os.path.basename(i) for i in glob.glob(train_dataset_path + '*')]\n",
        "train_classes.sort()\n",
        "\n",
        "print(train_classes)\n",
        "\n",
        "valid_classes = [os.path.basename(i) for i in glob.glob(test_dataset_path + '*')]\n",
        "valid_classes.sort()\n",
        "\n",
        "print(valid_classes)"
      ]
    },
    {
      "cell_type": "code",
      "execution_count": null,
      "metadata": {
        "id": "jsZ52JHcCaf9"
      },
      "outputs": [],
      "source": [
        "SIZE = (224, 224)\n",
        "CHANNELS = 3\n",
        "NBFRAME = 11\n",
        "BS = 4"
      ]
    },
    {
      "cell_type": "code",
      "execution_count": null,
      "metadata": {
        "id": "eYTCN32_CWsA"
      },
      "outputs": [],
      "source": [
        "train_data_aug = keras.preprocessing.image.ImageDataGenerator(\n",
        "        dtype = 'float16',\n",
        "        rescale = 1./255,\n",
        "        zoom_range=.1,\n",
        "        horizontal_flip=True,\n",
        "        rotation_range=15\n",
        "    )\n",
        "\n",
        "train = VideoFrameGenerator(\n",
        "    classes=train_classes,\n",
        "    glob_pattern=train_glob_pattern,\n",
        "    nb_frames=NBFRAME,\n",
        "    shuffle=True,\n",
        "    batch_size=BS,\n",
        "    target_shape=SIZE,\n",
        "    nb_channel=CHANNELS,\n",
        "    transformation=train_data_aug,\n",
        "    use_frame_cache=True)"
      ]
    },
    {
      "cell_type": "code",
      "execution_count": null,
      "metadata": {
        "id": "Z86DbbJ6CW6x"
      },
      "outputs": [],
      "source": [
        "valid_data_aug = keras.preprocessing.image.ImageDataGenerator(\n",
        "        dtype = 'float16',\n",
        "        rescale = 1./255\n",
        "    )\n",
        "\n",
        "valid = VideoFrameGenerator(\n",
        "    classes=valid_classes,\n",
        "    glob_pattern=valid_glob_pattern,\n",
        "    nb_frames=NBFRAME,\n",
        "    shuffle=True,\n",
        "    batch_size=BS,\n",
        "    target_shape=SIZE,\n",
        "    nb_channel=CHANNELS,\n",
        "    transformation=valid_data_aug,\n",
        "    use_frame_cache=True)"
      ]
    },
    {
      "cell_type": "code",
      "execution_count": null,
      "metadata": {
        "id": "XyRL_1LyCgNF"
      },
      "outputs": [],
      "source": [
        "def action_model(shape=(11, 224, 224, 3), nbout=4):\n",
        "    convnet = VGG19(weights='imagenet', include_top=False, input_shape=shape[1:])\n",
        "    convnet.summary()\n",
        "\n",
        "    # enable if you want to enable fine-tuning\n",
        "    trainable = 8  # change this value\n",
        "    for layer in convnet.layers[:-trainable]:\n",
        "        layer.trainable = False\n",
        "    for layer in convnet.layers[-trainable:]:\n",
        "        layer.trainable = True\n",
        "\n",
        "    # enable if you don't want fine-tuning\n",
        "    # for layer in convnet.layers:\n",
        "    #     layer.trainable = False\n",
        "\n",
        "    model = keras.Sequential()\n",
        "    model.add(TimeDistributed(convnet, input_shape=shape))\n",
        "    model.add(TimeDistributed(Flatten()))\n",
        "\n",
        "    model.add(Bidirectional(LSTM(512, return_sequences=True)))\n",
        "    model.add(Dropout(0.5))\n",
        "\n",
        "    model.add(Bidirectional(LSTM(128, return_sequences=True)))\n",
        "    model.add(Dropout(0.5))\n",
        "\n",
        "    model.add(Bidirectional(LSTM(64, return_sequences=False)))\n",
        "    model.add(Dropout(0.5))\n",
        "\n",
        "    model.add(Dense(256, activation='relu'))\n",
        "    model.add(Dropout(0.5))\n",
        "\n",
        "    model.add(Dense(128, activation='relu'))\n",
        "    model.add(Dropout(0.5))\n",
        "\n",
        "    model.add(Dense(nbout, activation='softmax'))\n",
        "\n",
        "    model.summary()\n",
        "    return model"
      ]
    },
    {
      "cell_type": "code",
      "execution_count": null,
      "metadata": {
        "id": "Rg_AP574TRGO"
      },
      "outputs": [],
      "source": [
        "INSHAPE=(NBFRAME,) + SIZE + (CHANNELS,) # (15, 180, 180, 3)\n",
        "model = action_model(INSHAPE, len(train_classes))\n",
        "optimizer = Adam(learning_rate=1e-5)\n",
        "model.compile(\n",
        "    optimizer=keras.optimizers.Adam(learning_rate=1e-5),\n",
        "    loss='categorical_crossentropy',\n",
        "    metrics=['accuracy']\n",
        ")\n",
        "\n",
        "EPOCHS=100\n",
        "callbacks = [\n",
        "    tf.keras.callbacks.ModelCheckpoint('/kaggle/working/adam_VGG_LSTM_cric4_learning_1e-5_.h5',\n",
        "                                       monitor='val_accuracy',\n",
        "                                       verbose=1,\n",
        "                                       save_best_only=True,\n",
        "                                       mode='max',\n",
        "                                       save_freq='epoch'),\n",
        "                                       EarlyStopping(monitor='val_accuracy', patience=10, mode=\"max\", restore_best_weights=True)\n",
        "                                       ]"
      ]
    },
    {
      "cell_type": "code",
      "execution_count": null,
      "metadata": {
        "id": "vQ4nsstdCgfm"
      },
      "outputs": [],
      "source": [
        "history = model.fit(\n",
        "    train,\n",
        "    validation_data=valid,\n",
        "    verbose=1,\n",
        "    epochs=EPOCHS,\n",
        "    callbacks=callbacks\n",
        ")"
      ]
    },
    {
      "cell_type": "code",
      "execution_count": null,
      "metadata": {
        "id": "dkrZ6l_tCgtt"
      },
      "outputs": [],
      "source": [
        "import matplotlib.pyplot as plt\n",
        "import seaborn as sns\n",
        "\n",
        "sns.set_style(\"whitegrid\")\n",
        "plt.figure(figsize=(8, 6))\n",
        "sns.lineplot(x=range(1, len(history.history[\"accuracy\"]) + 1), y=history.history[\"accuracy\"], label='train acc')\n",
        "sns.lineplot(x=range(1, len(history.history[\"val_accuracy\"]) + 1), y=history.history[\"val_accuracy\"], label='test acc')\n",
        "plt.title('Model Performance: Accuracy')\n",
        "plt.ylabel('accuracy')\n",
        "plt.xlabel('epoch')\n",
        "plt.legend(loc='lower right')\n",
        "plt.show()\n",
        "\n",
        "\n",
        "plt.figure(figsize=(8, 6))\n",
        "sns.lineplot(x=range(1, len(history.history[\"loss\"]) + 1), y=history.history[\"loss\"], label='train loss')\n",
        "sns.lineplot(x=range(1, len(history.history[\"val_loss\"]) + 1), y=history.history[\"val_loss\"], label='test loss')\n",
        "plt.title('Model Performance: Loss')\n",
        "plt.ylabel('loss')\n",
        "plt.xlabel('epoch')\n",
        "plt.legend(loc='upper right')\n",
        "plt.show()"
      ]
    },
    {
      "cell_type": "code",
      "execution_count": null,
      "metadata": {
        "id": "sGm6GXygGIlX"
      },
      "outputs": [],
      "source": [
        "import pandas as pd\n",
        "hist_df = pd.DataFrame(history.history)\n",
        "hist_csv_file = '/kaggle/working/adam_LSTM_cric4_learning_1e-5_.csv'\n",
        "\n",
        "with open(hist_csv_file, mode='w') as f:\n",
        "     hist_df.to_csv(f)"
      ]
    },
    {
      "cell_type": "code",
      "execution_count": null,
      "metadata": {
        "id": "3UxUanHXGIwa"
      },
      "outputs": [],
      "source": [
        "import numpy as np\n",
        "\n",
        "batch_size = BS\n",
        "steps_per_epoch = len(valid)\n",
        "\n",
        "y_true = np.empty(0, dtype=int)\n",
        "y_pred = np.empty(0, dtype=int)\n",
        "\n",
        "for i in range(steps_per_epoch):\n",
        "    x_batch, y_batch = next(valid)\n",
        "    y_true_batch = np.argmax(y_batch, axis=1)\n",
        "    y_pred_batch = np.argmax(model.predict(x_batch), axis=1)\n",
        "    y_true = np.concatenate([y_true, y_true_batch])\n",
        "    y_pred = np.concatenate([y_pred, y_pred_batch])"
      ]
    },
    {
      "cell_type": "code",
      "execution_count": null,
      "metadata": {
        "id": "FYvz4TjqTyt7"
      },
      "outputs": [],
      "source": [
        "from sklearn.metrics import classification_report, confusion_matrix\n",
        "\n",
        "print('Confusion Matrix')\n",
        "conf_matrix = confusion_matrix(y_true, y_pred)\n",
        "print(conf_matrix)"
      ]
    },
    {
      "cell_type": "code",
      "execution_count": null,
      "metadata": {
        "id": "TqhHRu38T1ND"
      },
      "outputs": [],
      "source": [
        "plt.figure(figsize=(6,4), dpi=100)\n",
        "\n",
        "sns.set(font_scale = 1.1)\n",
        "\n",
        "ax = sns.heatmap(conf_matrix, annot=True, fmt='d', cmap='mako')\n",
        "\n",
        "ax.set_xlabel(\"Predicted Label\", fontsize=15, labelpad=20, weight='bold')\n",
        "ax.xaxis.set_ticklabels(['WK Catch', 'Bowled Out', 'Slip Catch', 'LBW'], weight='bold', rotation=90)\n",
        "\n",
        "\n",
        "ax.set_ylabel(\"True Label\", fontsize=15, labelpad=20,weight='bold')\n",
        "ax.yaxis.set_ticklabels(['WK Catch', 'Bowled Out', 'Slip Catch', 'LBW'], weight='bold', rotation=0)\n",
        "\n",
        "ax.set_title(\"Confusion Matrix\", fontsize=18, pad=20)\n",
        "\n",
        "plt.show()"
      ]
    },
    {
      "cell_type": "code",
      "execution_count": null,
      "metadata": {
        "id": "RSut90QUT5Kj"
      },
      "outputs": [],
      "source": [
        "print('Classification Report')\n",
        "target_names = ['WK Catch', 'Bowled Out', 'Slip Catch', 'LBW']\n",
        "\n",
        "target_names = np.asarray(target_names)\n",
        "print(classification_report(y_true, y_pred, target_names=target_names))"
      ]
    }
  ],
  "metadata": {
    "accelerator": "GPU",
    "colab": {
      "gpuType": "L4",
      "machine_shape": "hm",
      "provenance": []
    },
    "kernelspec": {
      "display_name": "Python 3",
      "name": "python3"
    },
    "language_info": {
      "name": "python"
    }
  },
  "nbformat": 4,
  "nbformat_minor": 0
}